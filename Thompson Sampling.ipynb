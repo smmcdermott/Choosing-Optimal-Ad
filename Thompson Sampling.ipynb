{
 "cells": [
  {
   "cell_type": "markdown",
   "metadata": {},
   "source": [
    "# Thompson Sampling"
   ]
  },
  {
   "cell_type": "markdown",
   "metadata": {},
   "source": [
    "Solving Multi-Armed Bandit Problem. Attempting to find optimal machine through exploration and exploiting that machine as soon as possible"
   ]
  },
  {
   "cell_type": "markdown",
   "metadata": {},
   "source": [
    "### Intuition"
   ]
  },
  {
   "cell_type": "markdown",
   "metadata": {},
   "source": [
    "Each machine is given an equivalent expected return that is a random value from the distributions at the start of the algorithm. "
   ]
  },
  {
   "cell_type": "markdown",
   "metadata": {},
   "source": [
    "The machine goes through trial runs and the algorithm begins to construct a distribution from those trial runs for each ad. These distributions represent where we think the actual expected value might lie. We are creating an auxillary mechanism to solve the problem. We are recreating the possible ways that the ad was created."
   ]
  },
  {
   "cell_type": "markdown",
   "metadata": {},
   "source": [
    "Distribution tries to guess where the actual expected value is. We are NOT trying to guess what the actual distributions are. We are trying to mathematically represent what we think could be going on"
   ]
  },
  {
   "cell_type": "markdown",
   "metadata": {},
   "source": [
    "We are creating a probabilistic approach to the problem. The UCB is discrete; it is either greater than the bound or not"
   ]
  },
  {
   "cell_type": "markdown",
   "metadata": {},
   "source": [
    "Algorithm pulls or chooses any value that is in the distribution for each of the advertisments. The generates our own bandit configuration. It is an imaginary set of machines where the average actual expected return for each machine is the value that we pull from each distribution. "
   ]
  },
  {
   "cell_type": "markdown",
   "metadata": {},
   "source": [
    "We then choose to exploit the machine that has the highest expected return from the imaginary set. The algorithm will then calculate a value that is closer to the actual expected value from that machine or advertisment"
   ]
  },
  {
   "cell_type": "markdown",
   "metadata": {},
   "source": [
    "This shifts our perception of the distribution for that machine which changes the perception of our problem since we have a better idea of the distribution. This completes a round"
   ]
  },
  {
   "cell_type": "markdown",
   "metadata": {},
   "source": [
    "We then choose any value from each distribution which generates a new imaginary set of machines. We then exploit the machine with highest return and we calculate a value that is closer to the actual expected value"
   ]
  },
  {
   "cell_type": "markdown",
   "metadata": {},
   "source": [
    "This shifts our perception of the distribution for the machine; completing a round. We repeat this process until we have refined distributions to the point were we are only choosing rounds that are from the machine with the highest expected return"
   ]
  },
  {
   "cell_type": "markdown",
   "metadata": {},
   "source": [
    "## Import the Relevant Libraries"
   ]
  },
  {
   "cell_type": "code",
   "execution_count": 1,
   "metadata": {},
   "outputs": [],
   "source": [
    "# Importing the libraries\n",
    "import numpy as np\n",
    "import matplotlib.pyplot as plt\n",
    "import pandas as pd"
   ]
  },
  {
   "cell_type": "markdown",
   "metadata": {},
   "source": [
    "## Import the Dataset"
   ]
  },
  {
   "cell_type": "code",
   "execution_count": 2,
   "metadata": {},
   "outputs": [],
   "source": [
    "# Importing the dataset\n",
    "dataset = pd.read_csv('Ads_CTR_Optimisation.csv')"
   ]
  },
  {
   "cell_type": "markdown",
   "metadata": {},
   "source": [
    "## Implementing Thompson Sampling"
   ]
  },
  {
   "cell_type": "code",
   "execution_count": 3,
   "metadata": {},
   "outputs": [
    {
     "name": "stdout",
     "output_type": "stream",
     "text": [
      "2609\n"
     ]
    }
   ],
   "source": [
    "# Implementing Thompson Sampling\n",
    "import random\n",
    "N = 10000\n",
    "d = 10\n",
    "ads_selected = []\n",
    "# Number of times the ad had a reward of 1 for up to round N; creates a vector of d elements\n",
    "# Have a value of 0 at the start since there are no elements left\n",
    "numbers_of_rewards_1 = [0] * d\n",
    "# Number of times the ad had a reward of 0 for up to round N; creates a vector of d elements\n",
    "numbers_of_rewards_0 = [0] * d\n",
    "# Initialize the total reward to 0 at the start\n",
    "total_reward = 0\n",
    "for n in range(0, N):\n",
    "    # Initialize the ad to the first one\n",
    "    ad = 0\n",
    "    # Initialize a variable for the maximum for the random draws\n",
    "    max_random = 0\n",
    "    # For each ad \n",
    "    for i in range(0, d):\n",
    "        # Create variable that corresponds to random draw. Find the random distribution of the betas. \n",
    "        # Gives us the number of times it has a reward of 1 plus 1 for each ad (Use of i)\n",
    "        # and the number of times it has a reward of 0 plus 1 for each ad (Use of i)\n",
    "        random_beta = random.betavariate(numbers_of_rewards_1[i] + 1, numbers_of_rewards_0[i] + 1)\n",
    "        # If the current random beta is larger than the largest random draw for each ad\n",
    "        if random_beta > max_random:\n",
    "            # Set that current random draw to the max random \n",
    "            max_random = random_beta\n",
    "            # Update the ad in order to move to the next one\n",
    "            ad = i\n",
    "    # Add this add to the ads_selected list\n",
    "    ads_selected.append(ad)\n",
    "    # Get the actual reward for that round for that ad from the dataset\n",
    "    reward = dataset.values[n, ad]\n",
    "    # If the reward is 1\n",
    "    if reward == 1:\n",
    "        # Must increment the number of times that ad has reward 1 by 1 if the ad has a reward of 1\n",
    "        numbers_of_rewards_1[ad] = numbers_of_rewards_1[ad] + 1\n",
    "    # If the ad has a reward of 0\n",
    "    else:\n",
    "        # Must increment the number of times that ad has reward 0 by 1 if the ad has a reward of \n",
    "        numbers_of_rewards_0[ad] = numbers_of_rewards_0[ad] + 1\n",
    "    # Update the total reward by adding the reward for that ad\n",
    "    total_reward = total_reward + reward\n",
    "# The Thompson Sampling algorithm has a higher total reward than UCB\n",
    "print(\"The total reward for this Thompson Sampling algorithm is\", total_reward)"
   ]
  },
  {
   "cell_type": "markdown",
   "metadata": {},
   "source": [
    "## Visualizing the Results in a Histogram"
   ]
  },
  {
   "cell_type": "code",
   "execution_count": 4,
   "metadata": {},
   "outputs": [
    {
     "data": {
      "image/png": "[encoded data removed]",
      "text/plain": [
       "<Figure size 432x288 with 1 Axes>"
      ]
     },
     "metadata": {},
     "output_type": "display_data"
    }
   ],
   "source": [
    "# Visualising the results - Histogram\n",
    "# Quickly exploits the optimal ad since it dominates the number of times it was selected\n",
    "plt.hist(ads_selected)\n",
    "plt.title('Histogram of ads selections')\n",
    "plt.xlabel('Ads')\n",
    "plt.ylabel('Number of times each ad was selected')\n",
    "plt.show()"
   ]
  }
 ],
 "metadata": {
  "kernelspec": {
   "display_name": "Python 3",
   "language": "python",
   "name": "python3"
  },
  "language_info": {
   "codemirror_mode": {
    "name": "ipython",
    "version": 3
   },
   "file_extension": ".py",
   "mimetype": "text/x-python",
   "name": "python",
   "nbconvert_exporter": "python",
   "pygments_lexer": "ipython3",
   "version": "3.7.1"
  }
 },
 "nbformat": 4,
 "nbformat_minor": 2
}
